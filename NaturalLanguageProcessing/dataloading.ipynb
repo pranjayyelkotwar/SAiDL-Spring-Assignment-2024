{
 "cells": [
  {
   "cell_type": "code",
   "execution_count": 22,
   "metadata": {},
   "outputs": [],
   "source": [
    "from datasets import load_dataset\n",
    "\n",
    "dataset = load_dataset(\"conll2003\")"
   ]
  },
  {
   "cell_type": "code",
   "execution_count": 25,
   "metadata": {},
   "outputs": [],
   "source": [
    "import os\n",
    "\n",
    "def write_to_sentences(file_path, data):\n",
    "    directory = os.path.dirname(file_path)\n",
    "    if not os.path.exists(directory):\n",
    "        os.makedirs(directory)\n",
    "    with open(file_path, \"w\") as f:\n",
    "        for sentence in data:\n",
    "            # Convert each list of tokens into a space-separated string\n",
    "            line = \" \".join(sentence)\n",
    "            f.write(line + \"\\n\")  # Write the line to the file\n",
    "\n",
    "#tag_map = {'O': 0, 'B-PER': 1, 'I-PER': 2, 'B-ORG': 3, 'I-ORG': 4, 'B-LOC': 5, 'I-LOC': 6, 'B-MISC': 7, 'I-MISC': 8}\n",
    "tag_map = { 0 : '0' , 1 : 'B-PER' , 2 : 'I-PER' , 3 : 'B-ORG' , 4 : 'I-ORG' , 5 : 'B-LOC' , 6 : 'I-LOC' , 7 : 'B-MISC' , 8 : 'I-MISC'}\n",
    "\n",
    "def write_to_tags(file_path, data):\n",
    "    directory = os.path.dirname(file_path)\n",
    "    if not os.path.exists(directory):\n",
    "        os.makedirs(directory)\n",
    "    with open(file_path, \"w\") as f:\n",
    "        for tags in data:\n",
    "            # Convert each tag to a string and then join them\n",
    "            line = \" \".join(tag_map[tag] for tag in tags)\n",
    "            f.write(line + \"\\n\")  # Write the line to the file\n",
    "    \n",
    "# Create files if they don't exist\n",
    "write_to_sentences(\"data/train/sentences.txt\", dataset[\"train\"][\"tokens\"])\n",
    "write_to_sentences(\"data/valid/sentences.txt\", dataset[\"validation\"][\"tokens\"])\n",
    "write_to_sentences(\"data/test/sentences.txt\", dataset[\"test\"][\"tokens\"])\n",
    "\n",
    "write_to_tags(\"data/train/tags.txt\", dataset[\"train\"][\"ner_tags\"])\n",
    "write_to_tags(\"data/valid/tags.txt\", dataset[\"validation\"][\"ner_tags\"])\n",
    "write_to_tags(\"data/test/tags.txt\", dataset[\"test\"][\"ner_tags\"])"
   ]
  }
 ],
 "metadata": {
  "kernelspec": {
   "display_name": "Python 3",
   "language": "python",
   "name": "python3"
  },
  "language_info": {
   "codemirror_mode": {
    "name": "ipython",
    "version": 3
   },
   "file_extension": ".py",
   "mimetype": "text/x-python",
   "name": "python",
   "nbconvert_exporter": "python",
   "pygments_lexer": "ipython3",
   "version": "3.11.5"
  },
  "orig_nbformat": 4,
  "vscode": {
   "interpreter": {
    "hash": "b0fa6594d8f4cbf19f97940f81e996739fb7646882a419484c72d19e05852a7e"
   }
  }
 },
 "nbformat": 4,
 "nbformat_minor": 2
}
